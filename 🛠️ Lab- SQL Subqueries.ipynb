{
 "cells": [
  {
   "cell_type": "markdown",
   "metadata": {},
   "source": [
    "# SQL Subqueries - Lab\n",
    "\n",
    "## Introduction\n",
    "\n",
    "Now that you've seen how subqueries work, it's time to get some practice writing them! Not all of the queries will require subqueries, but all will be a bit more complex and require some thought and review about aggregates, grouping, ordering, filtering, joins and subqueries. Good luck!  \n",
    "\n",
    "## Objectives\n",
    "\n",
    "You will be able to:\n",
    "\n",
    "* Write subqueries to decompose complex queries\n",
    "\n",
    "## CRM Database ERD\n",
    "\n",
    "Once again, here's the schema for the CRM database you'll continue to practice with.\n",
    "\n",
    "<img src=\"https://curriculum-content.s3.amazonaws.com/data-science/images/Database-Schema.png\" width=\"600\">\n",
    "\n",
    "## Connect to the Database\n",
    "\n",
    "As usual, start by importing the necessary packages and connecting to the database `data.sqlite`."
   ]
  },
  {
   "cell_type": "code",
   "execution_count": 1,
   "metadata": {},
   "outputs": [],
   "source": [
    "# Your code here; import the necessary packages\n",
    "import sqlite3\n",
    "import pandas as pd\n"
   ]
  },
  {
   "cell_type": "code",
   "execution_count": 2,
   "metadata": {},
   "outputs": [],
   "source": [
    "# Your code here; create the connection\n",
    "# Connect to the SQLite database\n",
    "connection = sqlite3.connect('data.sqlite')"
   ]
  },
  {
   "cell_type": "markdown",
   "metadata": {},
   "source": [
    "## Write an Equivalent Query using a Subquery\n",
    "\n",
    "The following query works using a `JOIN`. Rewrite it so that it uses a subquery instead.\n",
    "\n",
    "```\n",
    "SELECT\n",
    "    customerNumber,\n",
    "    contactLastName,\n",
    "    contactFirstName\n",
    "FROM customers\n",
    "JOIN orders \n",
    "    USING(customerNumber)\n",
    "WHERE orderDate = '2003-01-31'\n",
    ";\n",
    "```"
   ]
  },
  {
   "cell_type": "code",
   "execution_count": 10,
   "metadata": {},
   "outputs": [
    {
     "name": "stdout",
     "output_type": "stream",
     "text": [
      "   customerNumber contactLastName contactFirstName\n",
      "0             141          Freyre           Diego \n"
     ]
    }
   ],
   "source": [
    "# Define the SQL query using a subquery\n",
    "query = \"\"\"\n",
    "SELECT\n",
    "    customerNumber,\n",
    "    contactLastName,\n",
    "    contactFirstName\n",
    "FROM customers\n",
    "WHERE customerNumber IN (\n",
    "    SELECT customerNumber\n",
    "    FROM orders\n",
    "    WHERE orderDate = '2003-01-31'\n",
    ")\n",
    "\"\"\"\n",
    "\n",
    "# Execute the query and load the results into a DataFrame\n",
    "customers_df = pd.read_sql(query, connection)\n",
    "\n",
    "# Display the DataFrame\n",
    "print(customers_df)\n",
    "\n"
   ]
  },
  {
   "cell_type": "markdown",
   "metadata": {},
   "source": [
    "## Select the Total Number of Orders for Each Product Name\n",
    "\n",
    "Sort the results by the total number of items sold for that product."
   ]
  },
  {
   "cell_type": "code",
   "execution_count": 11,
   "metadata": {},
   "outputs": [
    {
     "name": "stdout",
     "output_type": "stream",
     "text": [
      "                                 productName  totalOrders  totalItemsSold\n",
      "0                1992 Ferrari 360 Spider red           53            1808\n",
      "1                       1937 Lincoln Berline           28            1111\n",
      "2                  American Airlines: MD-11S           28            1085\n",
      "3    1941 Chevrolet Special Deluxe Cabriolet           28            1076\n",
      "4               1930 Buick Marquette Phaeton           28            1074\n",
      "..                                       ...          ...             ...\n",
      "104             1999 Indy 500 Monte Carlo SS           25             855\n",
      "105                       1911 Ford Town Car           25             832\n",
      "106         1936 Mercedes Benz 500k Roadster           25             824\n",
      "107               1970 Chevy Chevelle SS 454           25             803\n",
      "108                    1957 Ford Thunderbird           24             767\n",
      "\n",
      "[109 rows x 3 columns]\n"
     ]
    }
   ],
   "source": [
    "# Your code here\n",
    "# Define the SQL query\n",
    "query = \"\"\"\n",
    "SELECT \n",
    "    products.productName, \n",
    "    COUNT(orderdetails.orderNumber) AS totalOrders,\n",
    "    SUM(orderdetails.quantityOrdered) AS totalItemsSold\n",
    "FROM \n",
    "    orderdetails\n",
    "JOIN \n",
    "    products ON orderdetails.productCode = products.productCode\n",
    "GROUP BY \n",
    "    products.productName\n",
    "ORDER BY \n",
    "    totalItemsSold DESC\n",
    "\"\"\"\n",
    "\n",
    "# Execute the query and load the results into a DataFrame\n",
    "product_orders_df = pd.read_sql(query, connection)\n",
    "\n",
    "# Display the DataFrame\n",
    "print(product_orders_df)"
   ]
  },
  {
   "cell_type": "markdown",
   "metadata": {},
   "source": [
    "## Select the Product Name and the  Total Number of People Who Have Ordered Each Product\n",
    "\n",
    "Sort the results in descending order."
   ]
  },
  {
   "cell_type": "markdown",
   "metadata": {},
   "source": [
    "### A quick note on the SQL  `SELECT DISTINCT` statement:"
   ]
  },
  {
   "cell_type": "markdown",
   "metadata": {},
   "source": [
    "The `SELECT DISTINCT` statement is used to return only distinct values in the specified column. In other words, it removes the duplicate values in the column from the result set.\n",
    "\n",
    "Inside a table, a column often contains many duplicate values; and sometimes you only want to list the unique values. If you apply the `DISTINCT` clause to a column that has `NULL`, the `DISTINCT` clause will keep only one NULL and eliminates the other. In other words, the DISTINCT clause treats all `NULL` “values” as the same value."
   ]
  },
  {
   "cell_type": "code",
   "execution_count": 12,
   "metadata": {},
   "outputs": [
    {
     "name": "stdout",
     "output_type": "stream",
     "text": [
      "                             productName  totalCustomers\n",
      "0            1992 Ferrari 360 Spider red              40\n",
      "1                       Boeing X-32A JSF              27\n",
      "2                    1972 Alfa Romeo GTA              27\n",
      "3               1952 Alpine Renault 1300              27\n",
      "4                     1934 Ford V8 Coupe              27\n",
      "..                                   ...             ...\n",
      "104  1958 Chevy Corvette Limited Edition              19\n",
      "105                  2002 Chevy Corvette              18\n",
      "106            1969 Chevrolet Camaro Z28              18\n",
      "107                    1952 Citroen-15CV              18\n",
      "108                   1949 Jaguar XK 120              18\n",
      "\n",
      "[109 rows x 2 columns]\n"
     ]
    }
   ],
   "source": [
    "# Your code here\n",
    "# Hint: because one of the tables we'll be joining has duplicate customer numbers, you should use DISTINCT\n",
    "# Define the SQL query\n",
    "query = \"\"\"\n",
    "SELECT \n",
    "    products.productName, \n",
    "    COUNT(DISTINCT orders.customerNumber) AS totalCustomers\n",
    "FROM \n",
    "    orderdetails\n",
    "JOIN \n",
    "    orders ON orderdetails.orderNumber = orders.orderNumber\n",
    "JOIN \n",
    "    products ON orderdetails.productCode = products.productCode\n",
    "GROUP BY \n",
    "    products.productName\n",
    "ORDER BY \n",
    "    totalCustomers DESC\n",
    "\"\"\"\n",
    "\n",
    "# Execute the query and load the results into a DataFrame\n",
    "product_customers_df = pd.read_sql(query, connection)\n",
    "\n",
    "# Display the DataFrame\n",
    "print(product_customers_df)\n"
   ]
  },
  {
   "cell_type": "markdown",
   "metadata": {},
   "source": [
    "## Select the Employee Number, First Name, Last Name, City (of the office), and Office Code of the Employees Who Sold Products That Have Been Ordered by Fewer Than 20 people.\n",
    "\n",
    "This problem is a bit tougher. To start, think about how you might break the problem up. Be sure that your results only list each employee once."
   ]
  },
  {
   "cell_type": "code",
   "execution_count": 13,
   "metadata": {},
   "outputs": [
    {
     "name": "stdout",
     "output_type": "stream",
     "text": [
      "    employeeNumber firstName   lastName           city  officeCode\n",
      "0             1165    Leslie   Jennings  San Francisco           1\n",
      "1             1166    Leslie   Thompson  San Francisco           1\n",
      "2             1188     Julie   Firrelli         Boston           2\n",
      "3             1216     Steve  Patterson         Boston           2\n",
      "4             1286  Foon Yue      Tseng            NYC           3\n",
      "5             1323    George     Vanauf            NYC           3\n",
      "6             1337      Loui     Bondur          Paris           4\n",
      "7             1370    Gerard  Hernandez          Paris           4\n",
      "8             1401    Pamela   Castillo          Paris           4\n",
      "9             1501     Larry       Bott         London           7\n",
      "10            1504     Barry      Jones         London           7\n",
      "11            1611      Andy     Fixter         Sydney           6\n",
      "12            1612     Peter      Marsh         Sydney           6\n",
      "13            1621      Mami      Nishi          Tokyo           5\n",
      "14            1702    Martin     Gerard          Paris           4\n"
     ]
    }
   ],
   "source": [
    "# Your code here\n",
    "# Define the SQL query\n",
    "query = \"\"\"\n",
    "SELECT DISTINCT\n",
    "    employees.employeeNumber,\n",
    "    employees.firstName,\n",
    "    employees.lastName,\n",
    "    offices.city,\n",
    "    employees.officeCode\n",
    "FROM \n",
    "    employees\n",
    "JOIN \n",
    "    offices ON employees.officeCode = offices.officeCode\n",
    "WHERE \n",
    "    employees.employeeNumber IN (\n",
    "        SELECT DISTINCT\n",
    "            employees.employeeNumber\n",
    "        FROM \n",
    "            orderdetails\n",
    "        JOIN \n",
    "            orders ON orderdetails.orderNumber = orders.orderNumber\n",
    "        JOIN \n",
    "            customers ON orders.customerNumber = customers.customerNumber\n",
    "        JOIN \n",
    "            employees ON customers.salesRepEmployeeNumber = employees.employeeNumber\n",
    "        WHERE \n",
    "            orderdetails.productCode IN (\n",
    "                SELECT \n",
    "                    productCode\n",
    "                FROM \n",
    "                    orderdetails\n",
    "                JOIN \n",
    "                    orders ON orderdetails.orderNumber = orders.orderNumber\n",
    "                GROUP BY \n",
    "                    productCode\n",
    "                HAVING \n",
    "                    COUNT(DISTINCT orders.customerNumber) < 20\n",
    "            )\n",
    "    )\n",
    "\"\"\"\n",
    "\n",
    "# Execute the query and load the results into a DataFrame\n",
    "employee_details_df = pd.read_sql(query, connection)\n",
    "\n",
    "# Display the DataFrame\n",
    "print(employee_details_df)"
   ]
  },
  {
   "cell_type": "markdown",
   "metadata": {},
   "source": [
    "## Select the Employee Number, First Name, Last Name, and Number of Customers for Employees Whose Customers Have an Average Credit Limit Over 15K"
   ]
  },
  {
   "cell_type": "code",
   "execution_count": 14,
   "metadata": {},
   "outputs": [
    {
     "name": "stdout",
     "output_type": "stream",
     "text": [
      "    employeeNumber firstName   lastName  numberOfCustomers\n",
      "0             1165    Leslie   Jennings                  6\n",
      "1             1166    Leslie   Thompson                  6\n",
      "2             1188     Julie   Firrelli                  6\n",
      "3             1216     Steve  Patterson                  6\n",
      "4             1286  Foon Yue      Tseng                  7\n",
      "5             1323    George     Vanauf                  8\n",
      "6             1337      Loui     Bondur                  6\n",
      "7             1370    Gerard  Hernandez                  7\n",
      "8             1401    Pamela   Castillo                 10\n",
      "9             1501     Larry       Bott                  8\n",
      "10            1504     Barry      Jones                  9\n",
      "11            1611      Andy     Fixter                  5\n",
      "12            1612     Peter      Marsh                  5\n",
      "13            1621      Mami      Nishi                  5\n",
      "14            1702    Martin     Gerard                  6\n"
     ]
    }
   ],
   "source": [
    "# Your code here\n",
    "# Define the SQL query\n",
    "query = \"\"\"\n",
    "SELECT \n",
    "    employees.employeeNumber,\n",
    "    employees.firstName,\n",
    "    employees.lastName,\n",
    "    COUNT(customers.customerNumber) AS numberOfCustomers\n",
    "FROM \n",
    "    employees\n",
    "JOIN \n",
    "    customers ON employees.employeeNumber = customers.salesRepEmployeeNumber\n",
    "WHERE \n",
    "    employees.employeeNumber IN (\n",
    "        SELECT \n",
    "            salesRepEmployeeNumber\n",
    "        FROM \n",
    "            customers\n",
    "        GROUP BY \n",
    "            salesRepEmployeeNumber\n",
    "        HAVING \n",
    "            AVG(creditLimit) > 15000\n",
    "    )\n",
    "GROUP BY \n",
    "    employees.employeeNumber, \n",
    "    employees.firstName, \n",
    "    employees.lastName\n",
    "\"\"\"\n",
    "\n",
    "# Execute the query and load the results into a DataFrame\n",
    "employee_customers_df = pd.read_sql(query, connection)\n",
    "\n",
    "# Display the DataFrame\n",
    "print(employee_customers_df)"
   ]
  },
  {
   "cell_type": "markdown",
   "metadata": {},
   "source": [
    "## Summary\n",
    "\n",
    "In this lesson, you got to practice some more complex SQL queries, some of which required subqueries. There's still plenty more SQL to be had though; hope you've been enjoying some of these puzzles!"
   ]
  }
 ],
 "metadata": {
  "kernelspec": {
   "display_name": "Python 3 (ipykernel)",
   "language": "python",
   "name": "python3"
  },
  "language_info": {
   "codemirror_mode": {
    "name": "ipython",
    "version": 3
   },
   "file_extension": ".py",
   "mimetype": "text/x-python",
   "name": "python",
   "nbconvert_exporter": "python",
   "pygments_lexer": "ipython3",
   "version": "3.12.4"
  },
  "toc": {
   "base_numbering": 1,
   "nav_menu": {},
   "number_sections": true,
   "sideBar": true,
   "skip_h1_title": false,
   "title_cell": "Table of Contents",
   "title_sidebar": "Contents",
   "toc_cell": false,
   "toc_position": {},
   "toc_section_display": true,
   "toc_window_display": false
  }
 },
 "nbformat": 4,
 "nbformat_minor": 4
}
